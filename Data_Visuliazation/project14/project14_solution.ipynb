{
 "cells": [
  {
   "cell_type": "code",
   "execution_count": 25,
   "metadata": {
    "collapsed": true
   },
   "outputs": [],
   "source": [
    "\"\"\"\n",
    "Template for week 14 project in Data Visualization\n",
    "\n",
    "Load binary CT data and plot the contours of the resulting volume\n",
    "http://graphics.cs.ucdavis.edu/~okreylos/PhDStudies/Spring2000/ECS277/DataSets.html\n",
    "\"\"\"\n",
    "\n",
    "import struct\n",
    "import numpy as np\n",
    "import plotly.graph_objects as go\n",
    "import plotly.figure_factory as ff\n",
    "import plotly.io as pio\n",
    "import skimage"
   ]
  },
  {
   "cell_type": "code",
   "execution_count": 26,
   "metadata": {
    "collapsed": true
   },
   "outputs": [],
   "source": [
    "# Note that file names are caps-sensitive on Unix\n",
    "PLOTS_PATH = \"plots/\"\n",
    "DATA_PATH = \"data/\"\n",
    "SIMPLE = DATA_PATH + \"simple.vol\"\n",
    "C60_64 = DATA_PATH + \"C60_64.vol\"\n",
    "C60_128 = DATA_PATH + \"C60_128.vol\"\n",
    "FOOT = DATA_PATH + \"Foot.vol\"\n",
    "SKULL = DATA_PATH + \"Skull.vol\"\n",
    "\n",
    "VOLS = {}\n",
    "\n",
    "# Custom colorscale for CT volumes\n",
    "PL_BONE = [\n",
    "    [0.0, 'rgb(0, 0, 0)'],\n",
    "    [0.05, 'rgb(10, 10, 14)'],\n",
    "    [0.1, 'rgb(21, 21, 30)'],\n",
    "    [0.15, 'rgb(33, 33, 46)'],\n",
    "    [0.2, 'rgb(44, 44, 62)'],\n",
    "    [0.25, 'rgb(56, 55, 77)'],\n",
    "    [0.3, 'rgb(66, 66, 92)'],\n",
    "    [0.35, 'rgb(77, 77, 108)'],\n",
    "    [0.4, 'rgb(89, 92, 121)'],\n",
    "    [0.45, 'rgb(100, 107, 132)'],\n",
    "    [0.5, 'rgb(112, 123, 143)'],\n",
    "    [0.55, 'rgb(122, 137, 154)'],\n",
    "    [0.6, 'rgb(133, 153, 165)'],\n",
    "    [0.65, 'rgb(145, 169, 177)'],\n",
    "    [0.7, 'rgb(156, 184, 188)'],\n",
    "    [0.75, 'rgb(168, 199, 199)'],\n",
    "    [0.8, 'rgb(185, 210, 210)'],\n",
    "    [0.85, 'rgb(203, 221, 221)'],\n",
    "    [0.9, 'rgb(220, 233, 233)'],\n",
    "    [0.95, 'rgb(238, 244, 244)'],\n",
    "    [1.0, 'rgb(255, 255, 255)']\n",
    "]\n"
   ]
  },
  {
   "cell_type": "code",
   "execution_count": 27,
   "metadata": {
    "collapsed": true
   },
   "outputs": [],
   "source": [
    "#########################################################################\n",
    "# Part 1 - Implement Volume class and make_volume()\n",
    "\n",
    "class Volume:\n",
    "    \"\"\"\n",
    "    Container for CT volume data\n",
    "    \"\"\"\n",
    "    \n",
    "    def __init__(self, grid_values, grid_extents=(1, 1, 1)):\n",
    "        \"\"\"\n",
    "        Input: 3D numpy array grid_values, optional tuple grid_extents\n",
    "        that contains extent of grid in each dimension\n",
    "        \n",
    "        Ouput: Object storing grid of scalar data\n",
    "        \n",
    "        \"\"\"\n",
    "        self._data = grid_values\n",
    "        self._extents = grid_extents\n",
    "        \n",
    "    \n",
    "    # Implement during Part 3\n",
    "    def plot_volume_contour(self, val, title=\"Contour plot of volume\", plot_edges=True):\n",
    "        \"\"\"\n",
    "        Input: Volume object self, number val, optional string title\n",
    "        \n",
    "        Output: plotly figure corresponding to contour plot of volume using Marching Cubes\n",
    "        with specified value val.  Use grid extents to set aspect ratio.\n",
    "        Also writes HTML to PLOTS_PATH + title + \".html\".\n",
    "        \"\"\"\n",
    "        verts, faces = skimage.measure.marching_cubes_classic(self._data, level=val)\n",
    "\n",
    "        fig = ff.create_trisurf(\n",
    "            x=verts[:, 2], y=verts[:, 1], z=verts[:, 0],\n",
    "            simplices=faces,\n",
    "            title=title,\n",
    "            plot_edges=plot_edges,\n",
    "            show_colorbar=False,\n",
    "        )\n",
    "\n",
    "        fig.update_layout(\n",
    "            scene=dict(\n",
    "                aspectmode='manual',\n",
    "                aspectratio=dict(\n",
    "                    x=1,\n",
    "                    y=self._extents[1] / self._extents[2],\n",
    "                    z=self._extents[0] / self._extents[2],\n",
    "                )\n",
    "            ),\n",
    "        )\n",
    "\n",
    "        # Save the figure\n",
    "        pio.write_html(fig, file=PLOTS_PATH + title + \".html\")\n",
    "        return fig\n",
    "\n",
    "    # Implement during Part 4\n",
    "    def plot_volume_slice(self, title):\n",
    "        \"\"\"\n",
    "        Input: Volume object self, optional string title\n",
    "    \n",
    "        Output: plotly figure corresponding to 3D slices of volume \n",
    "        perpendicular to z-axis. The vertical position of this slice \n",
    "        should be controlled by buttons and a slider\n",
    "        Also writes HTML to PLOTS_PATH + title + \".html\".\n",
    "        \"\"\"   \n",
    "        volume_data = self._data\n",
    "        total_slices = volume_data.shape[0]\n",
    "        cmin = np.min(volume_data)\n",
    "        cmax = np.max(volume_data)\n",
    "\n",
    "        # Setup animation frames\n",
    "        frames = [\n",
    "            go.Frame(\n",
    "                data=[go.Surface(\n",
    "                    z=slice_index * np.ones(volume_data[0].shape), \n",
    "                    surfacecolor=np.flipud(volume_data[slice_index]),\n",
    "                    colorscale=PL_BONE,  \n",
    "                    cmin=cmin,\n",
    "                    cmax=cmax,\n",
    "                )], \n",
    "                name=str(slice_index)\n",
    "            ) for slice_index in range(total_slices)\n",
    "        ]\n",
    "\n",
    "        # Initial surface display\n",
    "        initial_display = go.Surface(\n",
    "            z=np.zeros(volume_data[0].shape),\n",
    "            surfacecolor=np.flipud(volume_data[0]),\n",
    "            colorscale=PL_BONE, \n",
    "            cmin=cmin,\n",
    "            cmax=cmax,\n",
    "            colorbar=dict(thickness=20, ticklen=4)\n",
    "        )\n",
    "\n",
    "        # Create the figure with initial display and frames\n",
    "        fig = go.Figure(\n",
    "            data=[initial_display],\n",
    "            frames=frames,\n",
    "            layout=go.Layout(\n",
    "                title=title,\n",
    "                width=600,\n",
    "                height=600,\n",
    "                scene=dict(\n",
    "                    zaxis=dict(range=[0, total_slices - 1], autorange=False),\n",
    "                    aspectratio=dict(\n",
    "                        x=1,\n",
    "                        y=self._extents[1] / self._extents[2],\n",
    "                        z=self._extents[0] / self._extents[2]\n",
    "                    )\n",
    "                )\n",
    "            )\n",
    "        )\n",
    "\n",
    "        # Slider configuration\n",
    "        sliders = [{\n",
    "            \"steps\": [\n",
    "                {\"args\": [[frame.name], \n",
    "                          {\"frame\": {\"duration\": 0, \"redraw\": True}, \"mode\": \"immediate\"}],\n",
    "                 \"label\": str(index),\n",
    "                 \"method\": \"animate\"}\n",
    "                for index, frame in enumerate(frames)\n",
    "            ],\n",
    "            \"pad\": {\"b\": 10, \"t\": 60},\n",
    "            \"len\": 0.9,\n",
    "            \"x\": 0.1,\n",
    "            \"y\": 0,\n",
    "        }]\n",
    "        fig.update_layout(sliders=sliders)\n",
    "\n",
    "\n",
    "        # Save the figure as an HTML file\n",
    "        pio.write_html(fig, file=PLOTS_PATH + title + \".html\")\n",
    "        return fig\n",
    "\n",
    " "
   ]
  },
  {
   "cell_type": "code",
   "execution_count": 28,
   "metadata": {
    "collapsed": true,
    "tags": [
     "notebook_only"
    ]
   },
   "outputs": [],
   "source": [
    "def test_volume():\n",
    "    \"\"\" Test the Volume class initializer \"\"\"\n",
    "    \n",
    "    Volume(np.array([[[0]]]))\n",
    "    Volume(np.array([[[1, 1], [1, 1]], [[2, 2], [2, 2]], [[3, 3], [3, 3]]]), (3, 2, 2))\n",
    "    \n",
    "test_volume()"
   ]
  },
  {
   "cell_type": "code",
   "execution_count": 29,
   "metadata": {
    "collapsed": true
   },
   "outputs": [],
   "source": [
    "def make_volume(z_coords, y_coords, x_coords, grid_fun):\n",
    "    \"\"\"\n",
    "    Input: Numpy arrays z_coords, y_coords, x_coords,\n",
    "    function grid_fun that takes 3 scalar parameters\n",
    "\n",
    "    Output: Volume object whose grid values as grid_fun(z, y, x)\n",
    "    taken at points of the grid defined by the coordinate arrays\n",
    "    \"\"\"\n",
    "    \n",
    "    z_val, y_val, x_val = np.meshgrid(z_coords, y_coords, x_coords, indexing='ij')\n",
    "\n",
    "    grid_values = grid_fun(z_val, y_val, x_val)\n",
    "\n",
    "    z_extent = np.max(z_coords) - np.min(z_coords)\n",
    "    y_extent = np.max(y_coords) - np.min(y_coords)\n",
    "    x_extent = np.max(x_coords) - np.min(x_coords)\n",
    "    extents = (z_extent, y_extent, x_extent)\n",
    "\n",
    "    return Volume(grid_values, extents)"
   ]
  },
  {
   "cell_type": "code",
   "execution_count": 30,
   "metadata": {
    "collapsed": true,
    "tags": [
     "notebook_only"
    ]
   },
   "outputs": [],
   "source": [
    "def test_make_volume():\n",
    "    \"\"\" Test make_volume function \"\"\"\n",
    "\n",
    "    z_values = np.linspace(-3, 3, 7)\n",
    "    y_values = np.linspace(-2, 2, 5)\n",
    "    x_values = np.linspace(-1, 1, 5)\n",
    "    grid_fun = lambda z, y, x: x + y + z\n",
    "    VOLS[\"linear\"] = make_volume(z_values, y_values, x_values, grid_fun)\n",
    "    \n",
    "    z_values = np.linspace(-3, 3, 13)\n",
    "    y_values = np.linspace(-3, 3, 13)\n",
    "    x_values = np.linspace(-3, 3, 13)\n",
    "    grid_fun = lambda z, y, x: z ** 2 + y ** 2 + x ** 2\n",
    "    VOLS[\"spherical\"] = make_volume(z_values, y_values, x_values, grid_fun)\n",
    "    \n",
    "test_make_volume()"
   ]
  },
  {
   "cell_type": "code",
   "execution_count": 31,
   "metadata": {
    "collapsed": true
   },
   "outputs": [],
   "source": [
    "############################################################################\n",
    "# Part 2 - Read binary CT data from a file and create a Volume object\n",
    "\n",
    "\n",
    "def read_volume(vol_name):\n",
    "    \"\"\"\n",
    "    Input: String vol_name \n",
    "    \n",
    "    Output: Volume object read from binary-encoded CT volume data in given file\n",
    "    \n",
    "    NOTE: Use struct module - https://docs.python.org/3/library/struct.html\n",
    "    \"\"\"\n",
    "    with open(vol_name, 'rb') as file:\n",
    "        header_format = \">3i4f\"  \n",
    "        header_size = struct.calcsize(header_format)\n",
    "        header_data = file.read(header_size)\n",
    "        unpacked_header = struct.unpack(header_format, header_data)\n",
    "    \n",
    "        dims = unpacked_header[:3]  \n",
    "        extents = unpacked_header[4:]  \n",
    "        \n",
    "        num_voxels = dims[0] * dims[1] * dims[2]\n",
    "        vol_data_format = \">\" + str(num_voxels) + \"B\"\n",
    "        vol_data = file.read(num_voxels)\n",
    "        volume_values = np.array(struct.unpack(vol_data_format, vol_data), dtype=np.uint8)\n",
    "        reshaped_vol_data = np.reshape(volume_values, dims)\n",
    "\n",
    "        return Volume(reshaped_vol_data, extents)\n",
    "\n",
    "    "
   ]
  },
  {
   "cell_type": "code",
   "execution_count": 32,
   "metadata": {
    "tags": [
     "notebook_only"
    ]
   },
   "outputs": [
    {
     "name": "stdout",
     "output_type": "stream",
     "text": [
      "(2.0, 3.0, 4.0) \n",
      "\n",
      " [[[ 0  1  2  3]\n",
      "  [ 4  5  6  7]\n",
      "  [ 8  9 10 11]]\n",
      "\n",
      " [[12 13 14 15]\n",
      "  [16 17 18 19]\n",
      "  [20 21 22 23]]]\n"
     ]
    }
   ],
   "source": [
    "def test_read_volume():\n",
    "    \"\"\" Test read_volume() \"\"\"\n",
    "    \n",
    "    # Simple test case to catch transpose errors\n",
    "    simple_vol = read_volume(SIMPLE)\n",
    "    print(simple_vol._extents, \"\\n\\n\", simple_vol._data)\n",
    "    \n",
    "    VOLS[\"C60_64\"] = read_volume(C60_64)    \n",
    "    VOLS[\"FOOT\"] = read_volume(FOOT)\n",
    "    VOLS[\"SKULL\"] = read_volume(SKULL)\n",
    "    \n",
    "test_read_volume()"
   ]
  },
  {
   "cell_type": "markdown",
   "metadata": {},
   "source": [
    "Correct output\n",
    "~~~~\n",
    "(2.0, 3.0, 4.0) \n",
    "\n",
    " [[[ 0  1  2  3]\n",
    "  [ 4  5  6  7]\n",
    "  [ 8  9 10 11]]\n",
    "\n",
    " [[12 13 14 15]\n",
    "  [16 17 18 19]\n",
    "  [20 21 22 23]]]\n",
    "~~~~"
   ]
  },
  {
   "cell_type": "code",
   "execution_count": 9,
   "metadata": {
    "collapsed": true,
    "tags": [
     "notebook_only"
    ]
   },
   "outputs": [],
   "source": [
    "################################################################################\n",
    "# Part 3 - Add contour_volume method to the Volume class\n",
    "\n",
    "def test_plot_volume_contour():\n",
    "    \"\"\" Test plot_volume_contour() \"\"\"\n",
    "    \n",
    "    VOLS[\"linear\"].plot_volume_contour(0, \"Contour plot of linear function\")    \n",
    "    VOLS[\"spherical\"].plot_volume_contour(4, \"Contour plot of spherical function\", plot_edges=False)\n",
    "    \n",
    "    VOLS[\"C60_64\"].plot_volume_contour(127, \"Contour plot of C60\")\n",
    "    VOLS[\"FOOT\"].plot_volume_contour(127, \"Contour plot of human foot\")\n",
    "    VOLS[\"SKULL\"].plot_volume_contour(127, \"Contour plot of human skull\")\n",
    "    \n",
    "test_plot_volume_contour()"
   ]
  },
  {
   "cell_type": "markdown",
   "metadata": {},
   "source": [
    "## Links to the 5 triangular meshes produced by `test_plot_volume_contour()`\n",
    "\n",
    "* [Contour plot of linear function](plots/Contour%20plot%20of%20linear%20function.html)\n",
    "* [Contour plot of spherical function](plots/Contour%20plot%20of%20spherical%20function.html)\n",
    "* [Contour plot of C60](plots/Contour%20plot%20of%20C60.html)\n",
    "* [Contour plot of human foot](plots/Contour%20plot%20of%20human%20foot.html)\n",
    "* [Contour plot of human skull](plots/Contour%20plot%20of%20human%20skull.html)"
   ]
  },
  {
   "cell_type": "code",
   "execution_count": 33,
   "metadata": {
    "tags": [
     "notebook_only"
    ]
   },
   "outputs": [],
   "source": [
    "################################################################################\n",
    "# Part 4 - Add plot_volume_slice method to the Volume class\n",
    "\n",
    "def test_plot_volume_slice():\n",
    "    \"\"\" Test plot_volume_slice() \"\"\"\n",
    "    \n",
    "    VOLS[\"linear\"].plot_volume_slice(\"Horizontal slices of linear function\")    \n",
    "    VOLS[\"spherical\"].plot_volume_slice(\"Horizontal slices of spherical function\")\n",
    "    \n",
    "    VOLS[\"C60_64\"].plot_volume_slice(\"Horizontal slices of C60\")\n",
    "    VOLS[\"FOOT\"].plot_volume_slice(\"Horizontal slices of human foot\")\n",
    "    VOLS[\"SKULL\"].plot_volume_slice(\"Horizontal slices of human skull\")\n",
    "    \n",
    "test_plot_volume_slice()"
   ]
  },
  {
   "cell_type": "markdown",
   "metadata": {},
   "source": [
    "### Links to the horizontal slicing of the 5 volumes produced by `test_plot_volume_slice()`\n",
    "* [Horizontal slices of linear function](plots/Horizontal%20slices%20of%20linear%20function.html)\n",
    "* [Horizontal slices of spherical function](plots/Horizontal%20slices%20of%20spherical%20function.html)\n",
    "* [Horizontal slices of C60_64](plots/Horizontal%20slices%20of%20C60.html)\n",
    "* [Horizontal slices of human foot](plots/Horizontal%20slices%20of%20human%20foot.html)\n",
    "* [Horizontal slices of human skull](plots/Horizontal%20slices%20of%20human%20skull.html)"
   ]
  }
 ],
 "metadata": {
  "celltoolbar": "Tags",
  "kernelspec": {
   "display_name": "Python 3 [3.6]",
   "language": "python",
   "name": "python3"
  },
  "language_info": {
   "codemirror_mode": {
    "name": "ipython",
    "version": 3
   },
   "file_extension": ".py",
   "mimetype": "text/x-python",
   "name": "python",
   "nbconvert_exporter": "python",
   "pygments_lexer": "ipython3",
   "version": "3.6.4"
  }
 },
 "nbformat": 4,
 "nbformat_minor": 2
}
